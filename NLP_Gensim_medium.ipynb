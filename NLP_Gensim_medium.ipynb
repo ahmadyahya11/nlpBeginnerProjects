{
 "cells": [
  {
   "cell_type": "code",
   "execution_count": null,
   "metadata": {},
   "outputs": [],
   "source": [
    "from gensim.models import Word2Vec, FastText\n",
    "import pandas as pd\n",
    "import re\n",
    "\n",
    "from sklearn.decomposition import PCA\n",
    "\n",
    "from matplotlib import pyplot\n",
    "\n",
    "import warnings\n",
    "warnings.filterwarnings('ignore')"
   ]
  },
  {
   "cell_type": "code",
   "execution_count": null,
   "metadata": {},
   "outputs": [],
   "source": [
    "sentences = [['i', 'like', 'apple', 'pie', 'for', 'dessert'],\n",
    "            ['i', 'dont', 'drive', 'fast', 'cars'],\n",
    "            ['data', 'science', 'is', 'fun'],\n",
    "            ['chocolate', 'is', 'my', 'favorite'],\n",
    "            ['my', 'favorite', 'movie', 'is', 'predator']]\n",
    "\n",
    "sentences2 = [[\"I like apple pie\"],\n",
    "            ['i', 'dont', 'drive', 'fast', 'cars'],\n",
    "            ['data', 'science', 'is', 'fun'],\n",
    "            ['chocolate', 'is', 'my', 'favorite'],\n",
    "            ['my', 'favorite', 'movie', 'is', 'predator']]"
   ]
  },
  {
   "cell_type": "code",
   "execution_count": null,
   "metadata": {
    "scrolled": true
   },
   "outputs": [],
   "source": [
    "# train word2vec model\n",
    "w2v = Word2Vec(sentences2, min_count=1, size = 5)\n",
    "print(w2v)\n",
    "\n",
    "#train fastText model\n",
    "ft = FastText(sentences, min_count=1, size = 5)\n",
    "print(ft)"
   ]
  },
  {
   "cell_type": "code",
   "execution_count": null,
   "metadata": {},
   "outputs": [],
   "source": [
    "# summarize vocabulary\n",
    "words1 = list(w2v.wv.vocab)\n",
    "print(words1)\n",
    "words2 = list(ft.wv.vocab)\n",
    "print(words2)"
   ]
  },
  {
   "cell_type": "code",
   "execution_count": null,
   "metadata": {},
   "outputs": [],
   "source": [
    "# access vector for one word\n",
    "print(w2v['chocolate'])\n",
    "print(ft['chocolate'])"
   ]
  },
  {
   "cell_type": "code",
   "execution_count": null,
   "metadata": {},
   "outputs": [],
   "source": []
  },
  {
   "cell_type": "code",
   "execution_count": null,
   "metadata": {},
   "outputs": [],
   "source": []
  },
  {
   "cell_type": "code",
   "execution_count": null,
   "metadata": {},
   "outputs": [],
   "source": [
    "X = w2v[w2v.wv.vocab]\n",
    "pca = PCA(n_components=2)\n",
    "\n",
    "result = pca.fit_transform(X)\n",
    "\n",
    "# create a scatter plot of the projection\n",
    "pyplot.scatter(result[:, 0], result[:, 1])\n",
    "words = list(w2v.wv.vocab)\n",
    "\n",
    "for i, word in enumerate(words):\n",
    "    pyplot.annotate(word, xy=(result[i, 0], result[i, 1]))\n",
    "\n",
    "pyplot.show()"
   ]
  },
  {
   "cell_type": "code",
   "execution_count": null,
   "metadata": {},
   "outputs": [],
   "source": [
    "X = ft[ft.wv.vocab]\n",
    "pca = PCA(n_components=2)\n",
    "\n",
    "result = pca.fit_transform(X)\n",
    "\n",
    "# create a scatter plot of the projection\n",
    "pyplot.scatter(result[:, 0], result[:, 1])\n",
    "words = list(ft.wv.vocab)\n",
    "\n",
    "for i, word in enumerate(words):\n",
    "    pyplot.annotate(word, xy=(result[i, 0], result[i, 1]))\n",
    "\n",
    "pyplot.show()"
   ]
  },
  {
   "cell_type": "code",
   "execution_count": null,
   "metadata": {},
   "outputs": [],
   "source": []
  },
  {
   "cell_type": "code",
   "execution_count": null,
   "metadata": {},
   "outputs": [],
   "source": []
  },
  {
   "cell_type": "code",
   "execution_count": null,
   "metadata": {},
   "outputs": [],
   "source": []
  },
  {
   "cell_type": "code",
   "execution_count": null,
   "metadata": {},
   "outputs": [],
   "source": []
  },
  {
   "cell_type": "code",
   "execution_count": null,
   "metadata": {},
   "outputs": [],
   "source": []
  },
  {
   "cell_type": "code",
   "execution_count": null,
   "metadata": {},
   "outputs": [],
   "source": [
    "df = pd.read_csv('emails.csv')"
   ]
  },
  {
   "cell_type": "code",
   "execution_count": null,
   "metadata": {},
   "outputs": [],
   "source": [
    "df.head()"
   ]
  },
  {
   "cell_type": "code",
   "execution_count": null,
   "metadata": {},
   "outputs": [],
   "source": [
    "clean_txt = []\n",
    "for w in range(len(df.text)):\n",
    "    desc = df['text'][w].lower()\n",
    "    \n",
    "    #remove punctuation\n",
    "    desc = re.sub('[^a-zA-Z]', ' ', desc)\n",
    "    \n",
    "    #remove tags\n",
    "    desc=re.sub(\"&lt;/?.*?&gt;\",\" &lt;&gt; \",desc)\n",
    "    \n",
    "    #remove digits and special chars\n",
    "    desc=re.sub(\"(\\\\d|\\\\W)+\",\" \",desc)\n",
    "    clean_txt.append(desc)\n"
   ]
  },
  {
   "cell_type": "code",
   "execution_count": null,
   "metadata": {},
   "outputs": [],
   "source": [
    "df['clean'] = clean_txt"
   ]
  },
  {
   "cell_type": "code",
   "execution_count": null,
   "metadata": {},
   "outputs": [],
   "source": [
    "corpus = []\n",
    "for col in df.clean:\n",
    "    word_list = col.split(\" \")\n",
    "    corpus.append(word_list)\n",
    "#corpus"
   ]
  },
  {
   "cell_type": "code",
   "execution_count": null,
   "metadata": {},
   "outputs": [],
   "source": [
    "model = Word2Vec(corpus, min_count=1, size = 56)"
   ]
  },
  {
   "cell_type": "code",
   "execution_count": null,
   "metadata": {},
   "outputs": [],
   "source": [
    "X = model[model.wv.vocab]\n",
    "\n",
    "pca = PCA(n_components=2)\n",
    "\n",
    "result = pca.fit_transform(X)\n",
    "\n",
    "# create a scatter plot of the projection\n",
    "pyplot.scatter(result[:, 0], result[:, 1])\n",
    "words = list(model.wv.vocab)\n",
    "\n",
    "for i, word in enumerate(words):\n",
    "    pyplot.annotate(word, xy=(result[i, 0], result[i, 1]))\n",
    "\n",
    "pyplot.show()"
   ]
  },
  {
   "cell_type": "code",
   "execution_count": null,
   "metadata": {},
   "outputs": [],
   "source": [
    "test = pd.DataFrame(result, columns = ['x','y'])\n",
    "test['word'] = words\n",
    "test.head()"
   ]
  },
  {
   "cell_type": "code",
   "execution_count": null,
   "metadata": {},
   "outputs": [],
   "source": [
    "import plotly.graph_objects as go\n",
    "import numpy as np\n",
    "\n",
    "N = 1000000\n",
    "words = list(model.wv.vocab)\n",
    "fig = go.Figure(data=go.Scattergl(\n",
    "    x = test['x'],\n",
    "    y = test['y'],\n",
    "    mode='markers',\n",
    "    marker=dict(\n",
    "        color=np.random.randn(N),\n",
    "        colorscale='Viridis',\n",
    "        line_width=1\n",
    "    ),\n",
    "    text=test['word'],\n",
    "    textposition=\"bottom center\"\n",
    "))\n",
    "\n",
    "fig.show()"
   ]
  },
  {
   "cell_type": "code",
   "execution_count": null,
   "metadata": {},
   "outputs": [],
   "source": [
    "words\n"
   ]
  },
  {
   "cell_type": "code",
   "execution_count": null,
   "metadata": {},
   "outputs": [],
   "source": []
  },
  {
   "cell_type": "code",
   "execution_count": null,
   "metadata": {},
   "outputs": [],
   "source": []
  }
 ],
 "metadata": {
  "kernelspec": {
   "display_name": "Python 3",
   "language": "python",
   "name": "python3"
  },
  "language_info": {
   "codemirror_mode": {
    "name": "ipython",
    "version": 3
   },
   "file_extension": ".py",
   "mimetype": "text/x-python",
   "name": "python",
   "nbconvert_exporter": "python",
   "pygments_lexer": "ipython3",
   "version": "3.7.4"
  }
 },
 "nbformat": 4,
 "nbformat_minor": 2
}
